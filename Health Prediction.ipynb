{
 "cells": [
  {
   "cell_type": "code",
   "execution_count": 1,
   "id": "f5b7f9c3-f836-4882-929b-c3bbe8a73275",
   "metadata": {},
   "outputs": [],
   "source": [
    "import pandas as pd\n",
    "import numpy as np\n",
    "\n",
    "import matplotlib.pyplot as plt\n",
    "import seaborn as sns\n",
    "\n",
    "from glob import glob"
   ]
  },
  {
   "cell_type": "code",
   "execution_count": 2,
   "id": "4bd5f49c-d8ee-4880-a51d-33bce75c5587",
   "metadata": {},
   "outputs": [],
   "source": [
    "data = pd.read_csv(\"../../Data/DHS Prediction/health_data.csv\")"
   ]
  },
  {
   "cell_type": "markdown",
   "id": "6a10e603-5964-4b47-8ef7-3156dfea44f1",
   "metadata": {
    "tags": []
   },
   "source": [
    "* Age 13\n",
    "    * categories 1 - 13; where 1 is 18-24, 9 is 60-64, 13 is 80+\n",
    "* Sex\n",
    "    * 0:Female 1:Male\n",
    "* HighChol\n",
    "    * 1: True\n",
    "* CholCheck in 5 years bool\n",
    "* BMI\n",
    "* Smoker smoked > 5packs bool\n",
    "* HeartDiseaseorAttack\n",
    "    * 0:CHD 1:Myocardial Infarction\n",
    "* PhysActivity past 30 days bool\n",
    "* Fruits Consume regularrly bool\n",
    "* Veggies Consume regularrly bool\n",
    "* HvyAlcoholConsump bool\n",
    "* GenHlth\n",
    "    * Self reported health scale 1 excellent - 5 poor\n",
    "* MentHlth\n",
    "    * Days of poor mental health past 30 days\n",
    "* PhysHlth\n",
    "    * illness or injury count in past 30 days\n",
    "* DiffWalk bool\n",
    "    * difficulty walking/climbing stairs\n",
    "<br>\n",
    "\n",
    "<h4>Labels:</h4>\n",
    "\n",
    "* Diabetes\n",
    "* Hypertension\n",
    "* Stroke"
   ]
  },
  {
   "cell_type": "code",
   "execution_count": 3,
   "id": "86a70aac-6815-457c-9984-722d8adb3834",
   "metadata": {},
   "outputs": [
    {
     "name": "stdout",
     "output_type": "stream",
     "text": [
      "<class 'pandas.core.frame.DataFrame'>\n",
      "RangeIndex: 70692 entries, 0 to 70691\n",
      "Data columns (total 18 columns):\n",
      " #   Column                Non-Null Count  Dtype  \n",
      "---  ------                --------------  -----  \n",
      " 0   Age                   70692 non-null  float64\n",
      " 1   Sex                   70692 non-null  float64\n",
      " 2   HighChol              70692 non-null  float64\n",
      " 3   CholCheck             70692 non-null  float64\n",
      " 4   BMI                   70692 non-null  float64\n",
      " 5   Smoker                70692 non-null  float64\n",
      " 6   HeartDiseaseorAttack  70692 non-null  float64\n",
      " 7   PhysActivity          70692 non-null  float64\n",
      " 8   Fruits                70692 non-null  float64\n",
      " 9   Veggies               70692 non-null  float64\n",
      " 10  HvyAlcoholConsump     70692 non-null  float64\n",
      " 11  GenHlth               70692 non-null  float64\n",
      " 12  MentHlth              70692 non-null  float64\n",
      " 13  PhysHlth              70692 non-null  float64\n",
      " 14  DiffWalk              70692 non-null  float64\n",
      " 15  Diabetes              70692 non-null  float64\n",
      " 16  Hypertension          70692 non-null  float64\n",
      " 17  Stroke                70692 non-null  float64\n",
      "dtypes: float64(18)\n",
      "memory usage: 9.7 MB\n"
     ]
    }
   ],
   "source": [
    "data.info()"
   ]
  },
  {
   "cell_type": "markdown",
   "id": "acb06e21-fb83-46ce-93f6-14e7a256461e",
   "metadata": {},
   "source": [
    "### Let's change types\n",
    "We have very many bools counting as float64, this is unneccesary data usage. Let's verify their containers"
   ]
  },
  {
   "cell_type": "code",
   "execution_count": 4,
   "id": "8d3043d6-0092-48a7-b0ae-a3246b128fb3",
   "metadata": {},
   "outputs": [
    {
     "data": {
      "text/html": [
       "<div>\n",
       "<style scoped>\n",
       "    .dataframe tbody tr th:only-of-type {\n",
       "        vertical-align: middle;\n",
       "    }\n",
       "\n",
       "    .dataframe tbody tr th {\n",
       "        vertical-align: top;\n",
       "    }\n",
       "\n",
       "    .dataframe thead th {\n",
       "        text-align: right;\n",
       "    }\n",
       "</style>\n",
       "<table border=\"1\" class=\"dataframe\">\n",
       "  <thead>\n",
       "    <tr style=\"text-align: right;\">\n",
       "      <th></th>\n",
       "      <th>Sex</th>\n",
       "      <th>HighChol</th>\n",
       "      <th>CholCheck</th>\n",
       "      <th>Smoker</th>\n",
       "      <th>PhysActivity</th>\n",
       "      <th>Fruits</th>\n",
       "      <th>Veggies</th>\n",
       "      <th>HvyAlcoholConsump</th>\n",
       "      <th>DiffWalk</th>\n",
       "      <th>Diabetes</th>\n",
       "      <th>Hypertension</th>\n",
       "      <th>Stroke</th>\n",
       "    </tr>\n",
       "  </thead>\n",
       "  <tbody>\n",
       "    <tr>\n",
       "      <th>0.0</th>\n",
       "      <td>38386</td>\n",
       "      <td>33529</td>\n",
       "      <td>1749</td>\n",
       "      <td>37094</td>\n",
       "      <td>20993</td>\n",
       "      <td>27443</td>\n",
       "      <td>14932</td>\n",
       "      <td>67672</td>\n",
       "      <td>52826</td>\n",
       "      <td>35346</td>\n",
       "      <td>30860</td>\n",
       "      <td>66297</td>\n",
       "    </tr>\n",
       "    <tr>\n",
       "      <th>1.0</th>\n",
       "      <td>32306</td>\n",
       "      <td>37163</td>\n",
       "      <td>68943</td>\n",
       "      <td>33598</td>\n",
       "      <td>49699</td>\n",
       "      <td>43249</td>\n",
       "      <td>55760</td>\n",
       "      <td>3020</td>\n",
       "      <td>17866</td>\n",
       "      <td>35346</td>\n",
       "      <td>39832</td>\n",
       "      <td>4395</td>\n",
       "    </tr>\n",
       "  </tbody>\n",
       "</table>\n",
       "</div>"
      ],
      "text/plain": [
       "       Sex  HighChol  CholCheck  Smoker  PhysActivity  Fruits  Veggies  \\\n",
       "0.0  38386     33529       1749   37094         20993   27443    14932   \n",
       "1.0  32306     37163      68943   33598         49699   43249    55760   \n",
       "\n",
       "     HvyAlcoholConsump  DiffWalk  Diabetes  Hypertension  Stroke  \n",
       "0.0              67672     52826     35346         30860   66297  \n",
       "1.0               3020     17866     35346         39832    4395  "
      ]
     },
     "execution_count": 4,
     "metadata": {},
     "output_type": "execute_result"
    }
   ],
   "source": [
    "d = {}\n",
    "bools = ['Sex', 'HighChol', 'CholCheck', 'Smoker', 'PhysActivity', 'Fruits', 'Veggies', 'HvyAlcoholConsump', 'DiffWalk', 'Diabetes', 'Hypertension', 'Stroke']\n",
    "for col in bools:\n",
    "    d[col] = data[col].value_counts()\n",
    "pd.DataFrame.from_dict(d)"
   ]
  },
  {
   "cell_type": "code",
   "execution_count": 5,
   "id": "2a629803-4690-428a-9d35-d63b5229f49f",
   "metadata": {},
   "outputs": [],
   "source": [
    "for col in bools:\n",
    "    data[col] = data[col].astype('bool')"
   ]
  },
  {
   "cell_type": "code",
   "execution_count": 6,
   "id": "4dd637c5-4deb-4c9f-993b-c197a408a671",
   "metadata": {},
   "outputs": [
    {
     "name": "stdout",
     "output_type": "stream",
     "text": [
      "<class 'pandas.core.frame.DataFrame'>\n",
      "RangeIndex: 70692 entries, 0 to 70691\n",
      "Data columns (total 18 columns):\n",
      " #   Column                Non-Null Count  Dtype  \n",
      "---  ------                --------------  -----  \n",
      " 0   Age                   70692 non-null  float64\n",
      " 1   Sex                   70692 non-null  bool   \n",
      " 2   HighChol              70692 non-null  bool   \n",
      " 3   CholCheck             70692 non-null  bool   \n",
      " 4   BMI                   70692 non-null  float64\n",
      " 5   Smoker                70692 non-null  bool   \n",
      " 6   HeartDiseaseorAttack  70692 non-null  float64\n",
      " 7   PhysActivity          70692 non-null  bool   \n",
      " 8   Fruits                70692 non-null  bool   \n",
      " 9   Veggies               70692 non-null  bool   \n",
      " 10  HvyAlcoholConsump     70692 non-null  bool   \n",
      " 11  GenHlth               70692 non-null  float64\n",
      " 12  MentHlth              70692 non-null  float64\n",
      " 13  PhysHlth              70692 non-null  float64\n",
      " 14  DiffWalk              70692 non-null  bool   \n",
      " 15  Diabetes              70692 non-null  bool   \n",
      " 16  Hypertension          70692 non-null  bool   \n",
      " 17  Stroke                70692 non-null  bool   \n",
      "dtypes: bool(12), float64(6)\n",
      "memory usage: 4.0 MB\n"
     ]
    }
   ],
   "source": [
    "data.info()"
   ]
  },
  {
   "cell_type": "markdown",
   "id": "f9807d85-90a6-4552-89d3-a5094e87d3cb",
   "metadata": {},
   "source": [
    "Already the data size has been reduced by over 50% Let's inspect more to see if there are any other datasets not appearing as they are listed.<br>"
   ]
  },
  {
   "cell_type": "markdown",
   "id": "fcc9953f-58db-4e5e-9764-d2a92665d761",
   "metadata": {
    "tags": []
   },
   "source": [
    "### Age\n",
    "Given the information we have on the age, there isn't really a way we can safely deconstruct it so we will be keeping age as is."
   ]
  },
  {
   "cell_type": "code",
   "execution_count": 7,
   "id": "db40acfd-f2c1-4ef2-a151-0cd5484a102a",
   "metadata": {},
   "outputs": [
    {
     "data": {
      "text/plain": [
       "10.0    10856\n",
       "9.0     10112\n",
       "8.0      8603\n",
       "11.0     8044\n",
       "7.0      6872\n",
       "13.0     5426\n",
       "12.0     5394\n",
       "6.0      4648\n",
       "5.0      3520\n",
       "4.0      2793\n",
       "3.0      2049\n",
       "2.0      1396\n",
       "1.0       979\n",
       "Name: Age, dtype: int64"
      ]
     },
     "execution_count": 7,
     "metadata": {},
     "output_type": "execute_result"
    }
   ],
   "source": [
    "data.Age.value_counts()"
   ]
  },
  {
   "cell_type": "code",
   "execution_count": 8,
   "id": "d863ebb4-a128-47c4-a949-f13b9f686490",
   "metadata": {},
   "outputs": [],
   "source": [
    "data['Age'] = data['Age'].astype('int16')"
   ]
  },
  {
   "cell_type": "markdown",
   "id": "f6d9bd91-e61c-439a-9dd0-c2e26fc129c6",
   "metadata": {},
   "source": [
    "### BMI\n",
    "BMI is a medical indicator typically broken into five groups: \n",
    "* Underweight \n",
    "* Nominal \n",
    "* Overweight \n",
    "* Obese 1 \n",
    "* Obese 2\n",
    "* Obese 3\n",
    "\n",
    "We may find more use to calculate BMI as an ordinal"
   ]
  },
  {
   "cell_type": "code",
   "execution_count": 9,
   "id": "45b44aea-3b9c-452a-bf42-84aa643d5c6c",
   "metadata": {},
   "outputs": [
    {
     "data": {
      "text/html": [
       "<div>\n",
       "<style scoped>\n",
       "    .dataframe tbody tr th:only-of-type {\n",
       "        vertical-align: middle;\n",
       "    }\n",
       "\n",
       "    .dataframe tbody tr th {\n",
       "        vertical-align: top;\n",
       "    }\n",
       "\n",
       "    .dataframe thead th {\n",
       "        text-align: right;\n",
       "    }\n",
       "</style>\n",
       "<table border=\"1\" class=\"dataframe\">\n",
       "  <thead>\n",
       "    <tr style=\"text-align: right;\">\n",
       "      <th></th>\n",
       "      <th>index</th>\n",
       "      <th>BMI</th>\n",
       "    </tr>\n",
       "  </thead>\n",
       "  <tbody>\n",
       "    <tr>\n",
       "      <th>71</th>\n",
       "      <td>98.0</td>\n",
       "      <td>4</td>\n",
       "    </tr>\n",
       "    <tr>\n",
       "      <th>68</th>\n",
       "      <td>95.0</td>\n",
       "      <td>4</td>\n",
       "    </tr>\n",
       "    <tr>\n",
       "      <th>58</th>\n",
       "      <td>92.0</td>\n",
       "      <td>9</td>\n",
       "    </tr>\n",
       "    <tr>\n",
       "      <th>69</th>\n",
       "      <td>89.0</td>\n",
       "      <td>4</td>\n",
       "    </tr>\n",
       "    <tr>\n",
       "      <th>52</th>\n",
       "      <td>87.0</td>\n",
       "      <td>13</td>\n",
       "    </tr>\n",
       "    <tr>\n",
       "      <th>...</th>\n",
       "      <td>...</td>\n",
       "      <td>...</td>\n",
       "    </tr>\n",
       "    <tr>\n",
       "      <th>38</th>\n",
       "      <td>16.0</td>\n",
       "      <td>70</td>\n",
       "    </tr>\n",
       "    <tr>\n",
       "      <th>43</th>\n",
       "      <td>15.0</td>\n",
       "      <td>30</td>\n",
       "    </tr>\n",
       "    <tr>\n",
       "      <th>64</th>\n",
       "      <td>14.0</td>\n",
       "      <td>8</td>\n",
       "    </tr>\n",
       "    <tr>\n",
       "      <th>63</th>\n",
       "      <td>13.0</td>\n",
       "      <td>8</td>\n",
       "    </tr>\n",
       "    <tr>\n",
       "      <th>74</th>\n",
       "      <td>12.0</td>\n",
       "      <td>1</td>\n",
       "    </tr>\n",
       "  </tbody>\n",
       "</table>\n",
       "<p>80 rows × 2 columns</p>\n",
       "</div>"
      ],
      "text/plain": [
       "    index  BMI\n",
       "71   98.0    4\n",
       "68   95.0    4\n",
       "58   92.0    9\n",
       "69   89.0    4\n",
       "52   87.0   13\n",
       "..    ...  ...\n",
       "38   16.0   70\n",
       "43   15.0   30\n",
       "64   14.0    8\n",
       "63   13.0    8\n",
       "74   12.0    1\n",
       "\n",
       "[80 rows x 2 columns]"
      ]
     },
     "execution_count": 9,
     "metadata": {},
     "output_type": "execute_result"
    }
   ],
   "source": [
    "data.BMI.value_counts().reset_index().sort_values(by='index',ascending=False)"
   ]
  },
  {
   "cell_type": "code",
   "execution_count": 10,
   "id": "2d339a65-1dff-4d35-9b6d-8c2e8b7b50ab",
   "metadata": {},
   "outputs": [],
   "source": [
    "data['BMIGroup'] = pd.cut(\n",
    "    data['BMI'],\n",
    "    [0, 19, 25, 30, 35,40,float('inf')],\n",
    "    labels=['underweight','nominal','overweight','obese1','obese2','obese3']\n",
    ")"
   ]
  },
  {
   "cell_type": "code",
   "execution_count": 11,
   "id": "ea95256b-a5e0-47c6-861a-2174b7be819f",
   "metadata": {},
   "outputs": [
    {
     "data": {
      "text/plain": [
       "0         overweight\n",
       "1         overweight\n",
       "2         overweight\n",
       "3         overweight\n",
       "4         overweight\n",
       "            ...     \n",
       "70687         obese2\n",
       "70688     overweight\n",
       "70689        nominal\n",
       "70690    underweight\n",
       "70691        nominal\n",
       "Name: BMIGroup, Length: 70692, dtype: category\n",
       "Categories (6, object): ['underweight' < 'nominal' < 'overweight' < 'obese1' < 'obese2' < 'obese3']"
      ]
     },
     "execution_count": 11,
     "metadata": {},
     "output_type": "execute_result"
    }
   ],
   "source": [
    "data['BMIGroup']"
   ]
  },
  {
   "cell_type": "markdown",
   "id": "ab2aa992-21e4-48d2-922d-2fd6e091b63a",
   "metadata": {},
   "source": [
    "## HeartDiseaseorAttack\n",
    "\n",
    "<h4>Values</h4>\n",
    "\n",
    "* 0: Coronary Heart Disease \n",
    "* 1: Myocardial Infarction\n",
    "\n",
    "<h4>Analysis</h4>\n",
    "\n",
    "This is a bit of a unique feature and the format of its existence raises alot of questions. The first being, should we even use this feature? Predicting hypertension seems secondary when the subject has suffered a infarction. We should at the very least produce this as a hyperparameter to easily turn it off. Was this feature created by another algorithm? (I.E. Feature Extraction)? If every subject has CHD, is this a subset of a much larger dataset? Are these either or, or can one have both CHD and an infarction.\n",
    "\n",
    "On one hand, we can hypothesis that this feature will be highly correlated to hypertension. On the other, using heart attacks to predict hypertension could be putting the carrage before the horse."
   ]
  },
  {
   "cell_type": "code",
   "execution_count": 12,
   "id": "a81a7b2b-a152-4915-9991-0825ad29d9e0",
   "metadata": {},
   "outputs": [
    {
     "data": {
      "text/plain": [
       "0.0    60243\n",
       "1.0    10449\n",
       "Name: HeartDiseaseorAttack, dtype: int64"
      ]
     },
     "execution_count": 12,
     "metadata": {},
     "output_type": "execute_result"
    }
   ],
   "source": [
    "data.HeartDiseaseorAttack.value_counts()"
   ]
  },
  {
   "cell_type": "code",
   "execution_count": 13,
   "id": "5aa0e296-c1c2-4f5c-a86a-a73ecb128ab3",
   "metadata": {},
   "outputs": [],
   "source": [
    "data['HeartDiseaseorAttack'] = data['HeartDiseaseorAttack'].astype('bool')\n",
    "data.rename(columns={'HeartDiseaseorAttack':'HeartAttack'}, inplace=True)"
   ]
  },
  {
   "cell_type": "code",
   "execution_count": 14,
   "id": "e1f3232b-7c3c-48e8-b3b5-307b78eeb1cc",
   "metadata": {},
   "outputs": [
    {
     "name": "stdout",
     "output_type": "stream",
     "text": [
      "<class 'pandas.core.frame.DataFrame'>\n",
      "RangeIndex: 70692 entries, 0 to 70691\n",
      "Data columns (total 19 columns):\n",
      " #   Column             Non-Null Count  Dtype   \n",
      "---  ------             --------------  -----   \n",
      " 0   Age                70692 non-null  int16   \n",
      " 1   Sex                70692 non-null  bool    \n",
      " 2   HighChol           70692 non-null  bool    \n",
      " 3   CholCheck          70692 non-null  bool    \n",
      " 4   BMI                70692 non-null  float64 \n",
      " 5   Smoker             70692 non-null  bool    \n",
      " 6   HeartAttack        70692 non-null  bool    \n",
      " 7   PhysActivity       70692 non-null  bool    \n",
      " 8   Fruits             70692 non-null  bool    \n",
      " 9   Veggies            70692 non-null  bool    \n",
      " 10  HvyAlcoholConsump  70692 non-null  bool    \n",
      " 11  GenHlth            70692 non-null  float64 \n",
      " 12  MentHlth           70692 non-null  float64 \n",
      " 13  PhysHlth           70692 non-null  float64 \n",
      " 14  DiffWalk           70692 non-null  bool    \n",
      " 15  Diabetes           70692 non-null  bool    \n",
      " 16  Hypertension       70692 non-null  bool    \n",
      " 17  Stroke             70692 non-null  bool    \n",
      " 18  BMIGroup           70692 non-null  category\n",
      "dtypes: bool(13), category(1), float64(4), int16(1)\n",
      "memory usage: 3.2 MB\n"
     ]
    }
   ],
   "source": [
    "data.info()"
   ]
  },
  {
   "cell_type": "markdown",
   "id": "6aebe19a-59d3-4e7e-ad47-45af1cc83cea",
   "metadata": {},
   "source": [
    "## Finishing Data Resize\n",
    "\n",
    "* GenHlth            70692 non-null  float64 \n",
    "* MentHlth           70692 non-null  float64 \n",
    "* PhysHlth           70692 non-null  float64 "
   ]
  },
  {
   "cell_type": "code",
   "execution_count": 15,
   "id": "8f41f20f-da6b-4917-b1ed-9325e3d9f5ee",
   "metadata": {},
   "outputs": [
    {
     "data": {
      "text/plain": [
       "3.0    23427\n",
       "2.0    19872\n",
       "4.0    13303\n",
       "1.0     8282\n",
       "5.0     5808\n",
       "Name: GenHlth, dtype: int64"
      ]
     },
     "execution_count": 15,
     "metadata": {},
     "output_type": "execute_result"
    }
   ],
   "source": [
    "data['GenHlth'].value_counts()"
   ]
  },
  {
   "cell_type": "code",
   "execution_count": 16,
   "id": "5e25fe43-8ecb-4946-8815-259d5a916a9a",
   "metadata": {},
   "outputs": [
    {
     "data": {
      "text/plain": [
       "3    23427\n",
       "2    19872\n",
       "4    13303\n",
       "1     8282\n",
       "5     5808\n",
       "Name: GenHlth, dtype: int64"
      ]
     },
     "execution_count": 16,
     "metadata": {},
     "output_type": "execute_result"
    }
   ],
   "source": [
    "data['GenHlth'] = data['GenHlth'].astype('int8')\n",
    "data['GenHlth'].value_counts()"
   ]
  },
  {
   "cell_type": "code",
   "execution_count": 17,
   "id": "d8e7132e-759e-4c14-a90d-78c335a679cc",
   "metadata": {},
   "outputs": [
    {
     "data": {
      "text/plain": [
       "0.0     48091\n",
       "30.0     4320\n",
       "2.0      3267\n",
       "5.0      2519\n",
       "1.0      2051\n",
       "3.0      1967\n",
       "10.0     1924\n",
       "15.0     1767\n",
       "20.0     1125\n",
       "4.0       981\n",
       "7.0       825\n",
       "25.0      425\n",
       "14.0      353\n",
       "6.0       288\n",
       "8.0       198\n",
       "12.0      130\n",
       "28.0       99\n",
       "21.0       84\n",
       "29.0       53\n",
       "18.0       42\n",
       "16.0       28\n",
       "9.0        28\n",
       "22.0       22\n",
       "17.0       18\n",
       "26.0       17\n",
       "27.0       17\n",
       "13.0       15\n",
       "23.0       13\n",
       "24.0       10\n",
       "11.0        8\n",
       "19.0        7\n",
       "Name: MentHlth, dtype: int64"
      ]
     },
     "execution_count": 17,
     "metadata": {},
     "output_type": "execute_result"
    }
   ],
   "source": [
    "data['MentHlth'].value_counts()"
   ]
  },
  {
   "cell_type": "code",
   "execution_count": 18,
   "id": "1edf96fa-df44-417f-9735-1ff254f40ee6",
   "metadata": {},
   "outputs": [],
   "source": [
    "data['MentHlth'] = data['MentHlth'].astype('int32')"
   ]
  },
  {
   "cell_type": "code",
   "execution_count": 19,
   "id": "aa704570-7deb-42d5-8050-2e02241a1def",
   "metadata": {},
   "outputs": [
    {
     "data": {
      "text/plain": [
       "0.0     39915\n",
       "30.0     7953\n",
       "2.0      4102\n",
       "1.0      2853\n",
       "3.0      2438\n",
       "5.0      2332\n",
       "10.0     1980\n",
       "15.0     1913\n",
       "4.0      1376\n",
       "7.0      1326\n",
       "20.0     1292\n",
       "14.0      802\n",
       "25.0      557\n",
       "6.0       447\n",
       "8.0       276\n",
       "21.0      229\n",
       "28.0      211\n",
       "12.0      205\n",
       "29.0       95\n",
       "9.0        55\n",
       "18.0       50\n",
       "16.0       50\n",
       "17.0       35\n",
       "27.0       34\n",
       "22.0       31\n",
       "23.0       27\n",
       "26.0       26\n",
       "13.0       26\n",
       "24.0       24\n",
       "11.0       22\n",
       "19.0       10\n",
       "Name: PhysHlth, dtype: int64"
      ]
     },
     "execution_count": 19,
     "metadata": {},
     "output_type": "execute_result"
    }
   ],
   "source": [
    "data['PhysHlth'].value_counts()"
   ]
  },
  {
   "cell_type": "code",
   "execution_count": 20,
   "id": "e41f718e-7633-4486-88bc-a7a87cbeb865",
   "metadata": {},
   "outputs": [],
   "source": [
    "data['PhysHlth'] = data['PhysHlth'].astype('int32')"
   ]
  },
  {
   "cell_type": "code",
   "execution_count": 21,
   "id": "8e450e7f-55ec-4d27-9668-c3751bdd2dfb",
   "metadata": {},
   "outputs": [
    {
     "name": "stdout",
     "output_type": "stream",
     "text": [
      "<class 'pandas.core.frame.DataFrame'>\n",
      "RangeIndex: 70692 entries, 0 to 70691\n",
      "Data columns (total 19 columns):\n",
      " #   Column             Non-Null Count  Dtype   \n",
      "---  ------             --------------  -----   \n",
      " 0   Age                70692 non-null  int16   \n",
      " 1   Sex                70692 non-null  bool    \n",
      " 2   HighChol           70692 non-null  bool    \n",
      " 3   CholCheck          70692 non-null  bool    \n",
      " 4   BMI                70692 non-null  float64 \n",
      " 5   Smoker             70692 non-null  bool    \n",
      " 6   HeartAttack        70692 non-null  bool    \n",
      " 7   PhysActivity       70692 non-null  bool    \n",
      " 8   Fruits             70692 non-null  bool    \n",
      " 9   Veggies            70692 non-null  bool    \n",
      " 10  HvyAlcoholConsump  70692 non-null  bool    \n",
      " 11  GenHlth            70692 non-null  int8    \n",
      " 12  MentHlth           70692 non-null  int32   \n",
      " 13  PhysHlth           70692 non-null  int32   \n",
      " 14  DiffWalk           70692 non-null  bool    \n",
      " 15  Diabetes           70692 non-null  bool    \n",
      " 16  Hypertension       70692 non-null  bool    \n",
      " 17  Stroke             70692 non-null  bool    \n",
      " 18  BMIGroup           70692 non-null  category\n",
      "dtypes: bool(13), category(1), float64(1), int16(1), int32(2), int8(1)\n",
      "memory usage: 2.2 MB\n"
     ]
    }
   ],
   "source": [
    "data.info()"
   ]
  },
  {
   "cell_type": "code",
   "execution_count": 25,
   "id": "eeb42da2-f651-4081-998a-8b4c1bc5c801",
   "metadata": {},
   "outputs": [],
   "source": [
    "# We append the last bool for neater data exploration\n",
    "bools.append('HeartAttack')"
   ]
  },
  {
   "cell_type": "code",
   "execution_count": 30,
   "id": "425e9b2a-7b43-49d2-a85a-f9015370718d",
   "metadata": {},
   "outputs": [
    {
     "data": {
      "image/png": "[encoded data removed]",
      "text/plain": [
       "<Figure size 1440x1080 with 6 Axes>"
      ]
     },
     "metadata": {
      "needs_background": "light"
     },
     "output_type": "display_data"
    }
   ],
   "source": [
    "data.hist(bins=13, figsize=(20,15))\n",
    "plt.show()"
   ]
  },
  {
   "cell_type": "code",
   "execution_count": 43,
   "id": "4ad8e96e-32bd-4b09-ae3b-b8439c5c8b8d",
   "metadata": {},
   "outputs": [
    {
     "data": {
      "image/png": "[encoded data removed]",
      "text/plain": [
       "<Figure size 720x432 with 1 Axes>"
      ]
     },
     "metadata": {
      "needs_background": "light"
     },
     "output_type": "display_data"
    }
   ],
   "source": [
    "data.BMIGroup.hist(bins=6, figsize=(10,6))\n",
    "plt.show()"
   ]
  },
  {
   "cell_type": "code",
   "execution_count": 44,
   "id": "65e7ae74-60a0-4738-86f8-403a4d3e393f",
   "metadata": {},
   "outputs": [],
   "source": [
    "from sklearn.model_selection import StratifiedShuffleSplit\n",
    "split = StratifiedShuffleSplit(n_splits = 1, test_size=0.2, random_state=12)\n",
    "for train_idx, test_idx in split.split(data, data['BMIGroup']):\n",
    "    strat_train_set = data.loc[train_idx]\n",
    "    strat_test_set = data.loc[test_idx]"
   ]
  },
  {
   "cell_type": "code",
   "execution_count": 46,
   "id": "e11dc274-2a21-4d17-bb5b-67020f4dd077",
   "metadata": {},
   "outputs": [
    {
     "data": {
      "text/plain": [
       "overweight     0.345852\n",
       "nominal        0.251786\n",
       "obese1         0.213099\n",
       "obese2         0.098663\n",
       "obese3         0.071575\n",
       "underweight    0.019025\n",
       "Name: BMIGroup, dtype: float64"
      ]
     },
     "execution_count": 46,
     "metadata": {},
     "output_type": "execute_result"
    }
   ],
   "source": [
    "strat_test_set['BMIGroup'].value_counts()/len(strat_test_set)"
   ]
  },
  {
   "cell_type": "code",
   "execution_count": 49,
   "id": "cf1def5e-1bcd-43af-8b34-f37893ad92b3",
   "metadata": {},
   "outputs": [
    {
     "data": {
      "text/html": [
       "<div>\n",
       "<style scoped>\n",
       "    .dataframe tbody tr th:only-of-type {\n",
       "        vertical-align: middle;\n",
       "    }\n",
       "\n",
       "    .dataframe tbody tr th {\n",
       "        vertical-align: top;\n",
       "    }\n",
       "\n",
       "    .dataframe thead th {\n",
       "        text-align: right;\n",
       "    }\n",
       "</style>\n",
       "<table border=\"1\" class=\"dataframe\">\n",
       "  <thead>\n",
       "    <tr style=\"text-align: right;\">\n",
       "      <th></th>\n",
       "      <th>Age</th>\n",
       "      <th>Sex</th>\n",
       "      <th>HighChol</th>\n",
       "      <th>CholCheck</th>\n",
       "      <th>BMI</th>\n",
       "      <th>Smoker</th>\n",
       "      <th>HeartAttack</th>\n",
       "      <th>PhysActivity</th>\n",
       "      <th>Fruits</th>\n",
       "      <th>Veggies</th>\n",
       "      <th>HvyAlcoholConsump</th>\n",
       "      <th>GenHlth</th>\n",
       "      <th>MentHlth</th>\n",
       "      <th>PhysHlth</th>\n",
       "      <th>DiffWalk</th>\n",
       "      <th>Diabetes</th>\n",
       "      <th>Hypertension</th>\n",
       "      <th>Stroke</th>\n",
       "      <th>BMIGroup</th>\n",
       "    </tr>\n",
       "  </thead>\n",
       "  <tbody>\n",
       "    <tr>\n",
       "      <th>50638</th>\n",
       "      <td>6</td>\n",
       "      <td>False</td>\n",
       "      <td>True</td>\n",
       "      <td>True</td>\n",
       "      <td>25.0</td>\n",
       "      <td>False</td>\n",
       "      <td>False</td>\n",
       "      <td>True</td>\n",
       "      <td>True</td>\n",
       "      <td>True</td>\n",
       "      <td>False</td>\n",
       "      <td>2</td>\n",
       "      <td>0</td>\n",
       "      <td>0</td>\n",
       "      <td>False</td>\n",
       "      <td>True</td>\n",
       "      <td>True</td>\n",
       "      <td>False</td>\n",
       "      <td>nominal</td>\n",
       "    </tr>\n",
       "    <tr>\n",
       "      <th>30404</th>\n",
       "      <td>7</td>\n",
       "      <td>True</td>\n",
       "      <td>False</td>\n",
       "      <td>True</td>\n",
       "      <td>25.0</td>\n",
       "      <td>True</td>\n",
       "      <td>False</td>\n",
       "      <td>True</td>\n",
       "      <td>False</td>\n",
       "      <td>True</td>\n",
       "      <td>False</td>\n",
       "      <td>3</td>\n",
       "      <td>5</td>\n",
       "      <td>7</td>\n",
       "      <td>False</td>\n",
       "      <td>False</td>\n",
       "      <td>True</td>\n",
       "      <td>False</td>\n",
       "      <td>nominal</td>\n",
       "    </tr>\n",
       "    <tr>\n",
       "      <th>25075</th>\n",
       "      <td>6</td>\n",
       "      <td>False</td>\n",
       "      <td>False</td>\n",
       "      <td>True</td>\n",
       "      <td>42.0</td>\n",
       "      <td>False</td>\n",
       "      <td>False</td>\n",
       "      <td>True</td>\n",
       "      <td>True</td>\n",
       "      <td>True</td>\n",
       "      <td>False</td>\n",
       "      <td>2</td>\n",
       "      <td>0</td>\n",
       "      <td>0</td>\n",
       "      <td>False</td>\n",
       "      <td>False</td>\n",
       "      <td>False</td>\n",
       "      <td>False</td>\n",
       "      <td>obese3</td>\n",
       "    </tr>\n",
       "    <tr>\n",
       "      <th>54368</th>\n",
       "      <td>12</td>\n",
       "      <td>True</td>\n",
       "      <td>True</td>\n",
       "      <td>True</td>\n",
       "      <td>26.0</td>\n",
       "      <td>True</td>\n",
       "      <td>True</td>\n",
       "      <td>False</td>\n",
       "      <td>True</td>\n",
       "      <td>False</td>\n",
       "      <td>False</td>\n",
       "      <td>3</td>\n",
       "      <td>0</td>\n",
       "      <td>0</td>\n",
       "      <td>True</td>\n",
       "      <td>True</td>\n",
       "      <td>True</td>\n",
       "      <td>False</td>\n",
       "      <td>overweight</td>\n",
       "    </tr>\n",
       "    <tr>\n",
       "      <th>32188</th>\n",
       "      <td>11</td>\n",
       "      <td>True</td>\n",
       "      <td>True</td>\n",
       "      <td>True</td>\n",
       "      <td>26.0</td>\n",
       "      <td>False</td>\n",
       "      <td>False</td>\n",
       "      <td>True</td>\n",
       "      <td>True</td>\n",
       "      <td>False</td>\n",
       "      <td>False</td>\n",
       "      <td>2</td>\n",
       "      <td>0</td>\n",
       "      <td>0</td>\n",
       "      <td>False</td>\n",
       "      <td>False</td>\n",
       "      <td>True</td>\n",
       "      <td>False</td>\n",
       "      <td>overweight</td>\n",
       "    </tr>\n",
       "  </tbody>\n",
       "</table>\n",
       "</div>"
      ],
      "text/plain": [
       "       Age    Sex  HighChol  CholCheck   BMI  Smoker  HeartAttack  \\\n",
       "50638    6  False      True       True  25.0   False        False   \n",
       "30404    7   True     False       True  25.0    True        False   \n",
       "25075    6  False     False       True  42.0   False        False   \n",
       "54368   12   True      True       True  26.0    True         True   \n",
       "32188   11   True      True       True  26.0   False        False   \n",
       "\n",
       "       PhysActivity  Fruits  Veggies  HvyAlcoholConsump  GenHlth  MentHlth  \\\n",
       "50638          True    True     True              False        2         0   \n",
       "30404          True   False     True              False        3         5   \n",
       "25075          True    True     True              False        2         0   \n",
       "54368         False    True    False              False        3         0   \n",
       "32188          True    True    False              False        2         0   \n",
       "\n",
       "       PhysHlth  DiffWalk  Diabetes  Hypertension  Stroke    BMIGroup  \n",
       "50638         0     False      True          True   False     nominal  \n",
       "30404         7     False     False          True   False     nominal  \n",
       "25075         0     False     False         False   False      obese3  \n",
       "54368         0      True      True          True   False  overweight  \n",
       "32188         0     False     False          True   False  overweight  "
      ]
     },
     "execution_count": 49,
     "metadata": {},
     "output_type": "execute_result"
    }
   ],
   "source": [
    "master = strat_train_set.copy()\n",
    "master.head()"
   ]
  },
  {
   "cell_type": "code",
   "execution_count": 51,
   "id": "e54d28d2-c7f6-4dbd-87cb-c5d70705c2a9",
   "metadata": {},
   "outputs": [
    {
     "data": {
      "text/plain": [
       "27.0    5052\n",
       "26.0    3977\n",
       "28.0    3682\n",
       "24.0    3507\n",
       "30.0    3481\n",
       "        ... \n",
       "76.0       2\n",
       "80.0       1\n",
       "74.0       1\n",
       "86.0       1\n",
       "78.0       1\n",
       "Name: BMI, Length: 77, dtype: int64"
      ]
     },
     "execution_count": 51,
     "metadata": {},
     "output_type": "execute_result"
    }
   ],
   "source": [
    "master['BMI'].value_counts()"
   ]
  },
  {
   "cell_type": "code",
   "execution_count": 104,
   "id": "d79d93d0-0f6b-4cfe-9220-912adab99284",
   "metadata": {},
   "outputs": [
    {
     "data": {
      "text/html": [
       "<div>\n",
       "<style scoped>\n",
       "    .dataframe tbody tr th:only-of-type {\n",
       "        vertical-align: middle;\n",
       "    }\n",
       "\n",
       "    .dataframe tbody tr th {\n",
       "        vertical-align: top;\n",
       "    }\n",
       "\n",
       "    .dataframe thead th {\n",
       "        text-align: right;\n",
       "    }\n",
       "</style>\n",
       "<table border=\"1\" class=\"dataframe\">\n",
       "  <thead>\n",
       "    <tr style=\"text-align: right;\">\n",
       "      <th></th>\n",
       "      <th>BMIGroup</th>\n",
       "      <th>level_1</th>\n",
       "      <th>Stroke</th>\n",
       "      <th>Diabetes</th>\n",
       "      <th>Hypertension</th>\n",
       "    </tr>\n",
       "  </thead>\n",
       "  <tbody>\n",
       "    <tr>\n",
       "      <th>0</th>\n",
       "      <td>underweight</td>\n",
       "      <td>False</td>\n",
       "      <td>996</td>\n",
       "      <td>820</td>\n",
       "      <td>709</td>\n",
       "    </tr>\n",
       "    <tr>\n",
       "      <th>1</th>\n",
       "      <td>underweight</td>\n",
       "      <td>True</td>\n",
       "      <td>79</td>\n",
       "      <td>255</td>\n",
       "      <td>366</td>\n",
       "    </tr>\n",
       "    <tr>\n",
       "      <th>2</th>\n",
       "      <td>nominal</td>\n",
       "      <td>False</td>\n",
       "      <td>13508</td>\n",
       "      <td>10061</td>\n",
       "      <td>8852</td>\n",
       "    </tr>\n",
       "    <tr>\n",
       "      <th>3</th>\n",
       "      <td>nominal</td>\n",
       "      <td>True</td>\n",
       "      <td>732</td>\n",
       "      <td>4179</td>\n",
       "      <td>5388</td>\n",
       "    </tr>\n",
       "    <tr>\n",
       "      <th>4</th>\n",
       "      <td>overweight</td>\n",
       "      <td>False</td>\n",
       "      <td>18350</td>\n",
       "      <td>10285</td>\n",
       "      <td>8695</td>\n",
       "    </tr>\n",
       "    <tr>\n",
       "      <th>5</th>\n",
       "      <td>overweight</td>\n",
       "      <td>True</td>\n",
       "      <td>1208</td>\n",
       "      <td>9273</td>\n",
       "      <td>10863</td>\n",
       "    </tr>\n",
       "    <tr>\n",
       "      <th>6</th>\n",
       "      <td>obese1</td>\n",
       "      <td>False</td>\n",
       "      <td>11258</td>\n",
       "      <td>4521</td>\n",
       "      <td>4015</td>\n",
       "    </tr>\n",
       "    <tr>\n",
       "      <th>7</th>\n",
       "      <td>obese1</td>\n",
       "      <td>True</td>\n",
       "      <td>793</td>\n",
       "      <td>7530</td>\n",
       "      <td>8036</td>\n",
       "    </tr>\n",
       "    <tr>\n",
       "      <th>8</th>\n",
       "      <td>obese2</td>\n",
       "      <td>False</td>\n",
       "      <td>5196</td>\n",
       "      <td>1602</td>\n",
       "      <td>1500</td>\n",
       "    </tr>\n",
       "    <tr>\n",
       "      <th>9</th>\n",
       "      <td>obese2</td>\n",
       "      <td>True</td>\n",
       "      <td>384</td>\n",
       "      <td>3978</td>\n",
       "      <td>4080</td>\n",
       "    </tr>\n",
       "    <tr>\n",
       "      <th>10</th>\n",
       "      <td>obese3</td>\n",
       "      <td>False</td>\n",
       "      <td>3754</td>\n",
       "      <td>937</td>\n",
       "      <td>958</td>\n",
       "    </tr>\n",
       "    <tr>\n",
       "      <th>11</th>\n",
       "      <td>obese3</td>\n",
       "      <td>True</td>\n",
       "      <td>295</td>\n",
       "      <td>3112</td>\n",
       "      <td>3091</td>\n",
       "    </tr>\n",
       "  </tbody>\n",
       "</table>\n",
       "</div>"
      ],
      "text/plain": [
       "       BMIGroup  level_1  Stroke  Diabetes  Hypertension\n",
       "0   underweight    False     996       820           709\n",
       "1   underweight     True      79       255           366\n",
       "2       nominal    False   13508     10061          8852\n",
       "3       nominal     True     732      4179          5388\n",
       "4    overweight    False   18350     10285          8695\n",
       "5    overweight     True    1208      9273         10863\n",
       "6        obese1    False   11258      4521          4015\n",
       "7        obese1     True     793      7530          8036\n",
       "8        obese2    False    5196      1602          1500\n",
       "9        obese2     True     384      3978          4080\n",
       "10       obese3    False    3754       937           958\n",
       "11       obese3     True     295      3112          3091"
      ]
     },
     "execution_count": 104,
     "metadata": {},
     "output_type": "execute_result"
    }
   ],
   "source": [
    "labels = ['Hypertension', 'Stroke', 'Diabetes']\n",
    "stroke_agg = master.groupby('BMIGroup')['Stroke'].value_counts()\n",
    "diabetes_agg = master.groupby('BMIGroup')['Diabetes'].value_counts()\n",
    "hyper_t_agg = master.groupby('BMIGroup')['Hypertension'].value_counts()\n",
    "_df = pd.DataFrame([stroke_agg, diabetes_agg, hyper_t_agg]).T.reset_index()\n",
    "_df"
   ]
  },
  {
   "cell_type": "code",
   "execution_count": null,
   "id": "0a1ab99d-9543-44b5-82a9-f4db265c4331",
   "metadata": {},
   "outputs": [],
   "source": []
  },
  {
   "cell_type": "code",
   "execution_count": 139,
   "id": "8226bee6-f90d-4fa6-b01b-0669e9d25a38",
   "metadata": {},
   "outputs": [
    {
     "data": {
      "text/plain": [
       "[<matplotlib.lines.Line2D at 0x1fc83415f90>,\n",
       " <matplotlib.lines.Line2D at 0x1fc83415f30>,\n",
       " <matplotlib.lines.Line2D at 0x1fc834160e0>]"
      ]
     },
     "execution_count": 139,
     "metadata": {},
     "output_type": "execute_result"
    },
    {
     "data": {
      "image/png": "[encoded data removed]",
      "text/plain": [
       "<Figure size 1152x864 with 1 Axes>"
      ]
     },
     "metadata": {
      "needs_background": "light"
     },
     "output_type": "display_data"
    }
   ],
   "source": [
    "# All three labels appear to follow distribution of BMIGroup\n",
    "mask = _df['level_1'] == True\n",
    "plt.figure(figsize=(16,12))\n",
    "plt.plot(_df[mask].set_index('BMIGroup')[labels])"
   ]
  },
  {
   "cell_type": "code",
   "execution_count": 149,
   "id": "842b467a-e081-4e7b-a431-1d3600343288",
   "metadata": {},
   "outputs": [
    {
     "data": {
      "text/html": [
       "<div>\n",
       "<style scoped>\n",
       "    .dataframe tbody tr th:only-of-type {\n",
       "        vertical-align: middle;\n",
       "    }\n",
       "\n",
       "    .dataframe tbody tr th {\n",
       "        vertical-align: top;\n",
       "    }\n",
       "\n",
       "    .dataframe thead th {\n",
       "        text-align: right;\n",
       "    }\n",
       "</style>\n",
       "<table border=\"1\" class=\"dataframe\">\n",
       "  <thead>\n",
       "    <tr style=\"text-align: right;\">\n",
       "      <th></th>\n",
       "      <th>Hypertension</th>\n",
       "      <th>Stroke</th>\n",
       "      <th>Diabetes</th>\n",
       "    </tr>\n",
       "  </thead>\n",
       "  <tbody>\n",
       "    <tr>\n",
       "      <th>Age</th>\n",
       "      <td>0.340339</td>\n",
       "      <td>0.123082</td>\n",
       "      <td>0.278390</td>\n",
       "    </tr>\n",
       "    <tr>\n",
       "      <th>Sex</th>\n",
       "      <td>0.040486</td>\n",
       "      <td>0.001993</td>\n",
       "      <td>0.045720</td>\n",
       "    </tr>\n",
       "    <tr>\n",
       "      <th>HighChol</th>\n",
       "      <td>0.316871</td>\n",
       "      <td>0.097857</td>\n",
       "      <td>0.290223</td>\n",
       "    </tr>\n",
       "    <tr>\n",
       "      <th>CholCheck</th>\n",
       "      <td>0.101539</td>\n",
       "      <td>0.020479</td>\n",
       "      <td>0.115492</td>\n",
       "    </tr>\n",
       "    <tr>\n",
       "      <th>BMI</th>\n",
       "      <td>0.240026</td>\n",
       "      <td>0.022632</td>\n",
       "      <td>0.294080</td>\n",
       "    </tr>\n",
       "    <tr>\n",
       "      <th>Smoker</th>\n",
       "      <td>0.084997</td>\n",
       "      <td>0.065263</td>\n",
       "      <td>0.083708</td>\n",
       "    </tr>\n",
       "    <tr>\n",
       "      <th>HeartAttack</th>\n",
       "      <td>0.209933</td>\n",
       "      <td>0.226878</td>\n",
       "      <td>0.213452</td>\n",
       "    </tr>\n",
       "    <tr>\n",
       "      <th>PhysActivity</th>\n",
       "      <td>-0.134245</td>\n",
       "      <td>-0.081029</td>\n",
       "      <td>-0.159548</td>\n",
       "    </tr>\n",
       "    <tr>\n",
       "      <th>Fruits</th>\n",
       "      <td>-0.041289</td>\n",
       "      <td>-0.007038</td>\n",
       "      <td>-0.054066</td>\n",
       "    </tr>\n",
       "    <tr>\n",
       "      <th>Veggies</th>\n",
       "      <td>-0.067644</td>\n",
       "      <td>-0.048232</td>\n",
       "      <td>-0.080777</td>\n",
       "    </tr>\n",
       "    <tr>\n",
       "      <th>HvyAlcoholConsump</th>\n",
       "      <td>-0.026327</td>\n",
       "      <td>-0.022563</td>\n",
       "      <td>-0.092482</td>\n",
       "    </tr>\n",
       "    <tr>\n",
       "      <th>GenHlth</th>\n",
       "      <td>0.319869</td>\n",
       "      <td>0.188743</td>\n",
       "      <td>0.407684</td>\n",
       "    </tr>\n",
       "    <tr>\n",
       "      <th>MentHlth</th>\n",
       "      <td>0.064840</td>\n",
       "      <td>0.088210</td>\n",
       "      <td>0.084969</td>\n",
       "    </tr>\n",
       "    <tr>\n",
       "      <th>PhysHlth</th>\n",
       "      <td>0.174800</td>\n",
       "      <td>0.166001</td>\n",
       "      <td>0.213070</td>\n",
       "    </tr>\n",
       "    <tr>\n",
       "      <th>DiffWalk</th>\n",
       "      <td>0.236607</td>\n",
       "      <td>0.192638</td>\n",
       "      <td>0.273647</td>\n",
       "    </tr>\n",
       "    <tr>\n",
       "      <th>Diabetes</th>\n",
       "      <td>0.381961</td>\n",
       "      <td>0.127019</td>\n",
       "      <td>1.000000</td>\n",
       "    </tr>\n",
       "    <tr>\n",
       "      <th>Hypertension</th>\n",
       "      <td>1.000000</td>\n",
       "      <td>0.128495</td>\n",
       "      <td>0.381961</td>\n",
       "    </tr>\n",
       "    <tr>\n",
       "      <th>Stroke</th>\n",
       "      <td>0.128495</td>\n",
       "      <td>1.000000</td>\n",
       "      <td>0.127019</td>\n",
       "    </tr>\n",
       "  </tbody>\n",
       "</table>\n",
       "</div>"
      ],
      "text/plain": [
       "                   Hypertension    Stroke  Diabetes\n",
       "Age                    0.340339  0.123082  0.278390\n",
       "Sex                    0.040486  0.001993  0.045720\n",
       "HighChol               0.316871  0.097857  0.290223\n",
       "CholCheck              0.101539  0.020479  0.115492\n",
       "BMI                    0.240026  0.022632  0.294080\n",
       "Smoker                 0.084997  0.065263  0.083708\n",
       "HeartAttack            0.209933  0.226878  0.213452\n",
       "PhysActivity          -0.134245 -0.081029 -0.159548\n",
       "Fruits                -0.041289 -0.007038 -0.054066\n",
       "Veggies               -0.067644 -0.048232 -0.080777\n",
       "HvyAlcoholConsump     -0.026327 -0.022563 -0.092482\n",
       "GenHlth                0.319869  0.188743  0.407684\n",
       "MentHlth               0.064840  0.088210  0.084969\n",
       "PhysHlth               0.174800  0.166001  0.213070\n",
       "DiffWalk               0.236607  0.192638  0.273647\n",
       "Diabetes               0.381961  0.127019  1.000000\n",
       "Hypertension           1.000000  0.128495  0.381961\n",
       "Stroke                 0.128495  1.000000  0.127019"
      ]
     },
     "execution_count": 149,
     "metadata": {},
     "output_type": "execute_result"
    }
   ],
   "source": [
    "corr_matrix = master.corr()\n",
    "corr_matrix[labels]"
   ]
  },
  {
   "cell_type": "code",
   "execution_count": 152,
   "id": "6d44596a-2aa0-4981-b43b-52ca77013c66",
   "metadata": {},
   "outputs": [
    {
     "data": {
      "text/plain": [
       "<AxesSubplot:>"
      ]
     },
     "execution_count": 152,
     "metadata": {},
     "output_type": "execute_result"
    },
    {
     "data": {
      "image/png": "[encoded data removed]",
      "text/plain": [
       "<Figure size 1152x864 with 2 Axes>"
      ]
     },
     "metadata": {
      "needs_background": "light"
     },
     "output_type": "display_data"
    }
   ],
   "source": [
    "plt.figure(figsize=(16,12))\n",
    "sns.heatmap(corr_matrix[labels], vmin=-1, vmax=1, cmap='coolwarm', annot=True)"
   ]
  },
  {
   "cell_type": "code",
   "execution_count": 157,
   "id": "883b4334-1016-4a8d-9160-25ea5e6a2750",
   "metadata": {},
   "outputs": [],
   "source": [
    "master = strat_train_set.drop(labels, axis=1)\n",
    "master_labels = strat_train_set[labels]"
   ]
  },
  {
   "cell_type": "markdown",
   "id": "19d556cc-c39b-4a3a-ac36-be479b9aa204",
   "metadata": {
    "tags": []
   },
   "source": [
    "## Encoding\n",
    "Looking at encoding we have 1 definitive ordinal\n",
    "* GenHlth (.32/.19/.41)\n",
    "\n",
    "We also have two seemingly ordinal, but they're a little more complicated, so possibly not.\n",
    "* BMIGroup (?/?/?)\n",
    "* Age (.34/.12/.228)\n",
    "\n",
    "#### Numerics\n",
    "* MentHlth (.065/.088/.085)\n",
    "* PhysHlth (.17/.17/.21)\n",
    "* BMI (.24/.023/.29)\n",
    "\n",
    "We will also want to have the option to use either BMI or BMIGroup, or possibly both.\n",
    "* Age as;\n",
    "    * ordinal \n",
    "    * numeric\n",
    "    * OneHot\n",
    "* BMI as;\n",
    "    * numeric\n",
    "    * ordinal ?\n",
    "* BMIGroup as;\n",
    "    * ordinal\n",
    "    * OneHot\n",
    "* BMIGroup vs. BMI\n",
    "    * xx vs yy"
   ]
  },
  {
   "cell_type": "code",
   "execution_count": null,
   "id": "c9b10227-463a-46c3-84e1-8c23cb4c6320",
   "metadata": {},
   "outputs": [],
   "source": []
  },
  {
   "cell_type": "code",
   "execution_count": 206,
   "id": "16f6f584-8bf3-49ad-b940-7a2fbf5b9705",
   "metadata": {},
   "outputs": [],
   "source": [
    "ordinal_cat = master[['GenHlth', 'BMIGroup']]\n",
    "health_bools = master[['Sex','HighChol','CholCheck','Smoker','PhysActivity','Fruits','Veggies','HvyAlcoholConsump',\n",
    "         'DiffWalk','HeartAttack']]\n",
    "health_num = master[['PhysHlth', 'MentHlth', 'BMI', 'Age']]"
   ]
  },
  {
   "cell_type": "code",
   "execution_count": 184,
   "id": "36ecb67c-9741-4482-a0a8-9bb23de8f3d1",
   "metadata": {},
   "outputs": [
    {
     "data": {
      "text/plain": [
       "[array([1, 2, 3, 4, 5], dtype=int8)]"
      ]
     },
     "execution_count": 184,
     "metadata": {},
     "output_type": "execute_result"
    }
   ],
   "source": [
    "from sklearn.preprocessing import OrdinalEncoder\n",
    "ordinal_encoder = OrdinalEncoder()\n",
    "health_cat_encoded = ordinal_encoder.fit_transform(ordinal_cat)"
   ]
  },
  {
   "cell_type": "code",
   "execution_count": 204,
   "id": "fa7dcefd-2c1e-411e-82dc-768976a3e6d6",
   "metadata": {},
   "outputs": [],
   "source": [
    "from sklearn.base import BaseEstimator, TransformerMixin, ClassifierMixin\n",
    "# BMI_idx, BMIGroup_idx = 4, 15\n",
    "class AttributeSelection(BaseEstimator, TransformerMixin):\n",
    "    def __init__(self, add_BMIGroup = True, add_BMI = False):\n",
    "        self.add_BMIGroup = add_BMI_Group,\n",
    "        self.add_BMI = add_BMI\n",
    "        "
   ]
  },
  {
   "cell_type": "code",
   "execution_count": 209,
   "id": "e200f686-f635-484d-808b-579c96fd1e72",
   "metadata": {},
   "outputs": [],
   "source": [
    "from sklearn.pipeline import Pipeline\n",
    "from sklearn.preprocessing import StandardScaler\n",
    "from sklearn.impute import SimpleImputer\n",
    "\n",
    "num_pipeline = Pipeline([\n",
    "    ('imputer', SimpleImputer(strategy='median')),\n",
    "    ('std_scaler', StandardScaler())\n",
    "])\n",
    " \n",
    "health_num_encoded = num_pipeline.fit_transform(health_num)\n"
   ]
  },
  {
   "cell_type": "code",
   "execution_count": 215,
   "id": "4ad4037e-ea4c-4f67-8101-456a2db9c332",
   "metadata": {},
   "outputs": [],
   "source": [
    "from sklearn.compose import ColumnTransformer\n",
    "from sklearn.preprocessing import OneHotEncoder\n",
    "num_attrs = list(health_num)\n",
    "ord_attrs = list(ordinal_cat)\n",
    "bool_attrs = list(health_bools)\n",
    "\n",
    "full_pipeline = ColumnTransformer([\n",
    "    ('num', num_pipeline, num_attrs),\n",
    "    ('cat', OrdinalEncoder(), ord_attrs),\n",
    "    ('bool', OneHotEncoder(), bool_attrs),\n",
    "])\n",
    "health_prepared = full_pipeline.fit_transform(master)"
   ]
  },
  {
   "cell_type": "markdown",
   "id": "ffcf2d74-880c-429f-ac79-de73336db27c",
   "metadata": {},
   "source": [
    "# Linear Regression\n",
    "## Prediction\n",
    "Prediction of Hypertension"
   ]
  },
  {
   "cell_type": "code",
   "execution_count": 230,
   "id": "5720b02d-cbff-470a-ad69-796281a22a5a",
   "metadata": {},
   "outputs": [
    {
     "data": {
      "text/html": [
       "<style>#sk-container-id-2 {color: black;background-color: white;}#sk-container-id-2 pre{padding: 0;}#sk-container-id-2 div.sk-toggleable {background-color: white;}#sk-container-id-2 label.sk-toggleable__label {cursor: pointer;display: block;width: 100%;margin-bottom: 0;padding: 0.3em;box-sizing: border-box;text-align: center;}#sk-container-id-2 label.sk-toggleable__label-arrow:before {content: \"▸\";float: left;margin-right: 0.25em;color: #696969;}#sk-container-id-2 label.sk-toggleable__label-arrow:hover:before {color: black;}#sk-container-id-2 div.sk-estimator:hover label.sk-toggleable__label-arrow:before {color: black;}#sk-container-id-2 div.sk-toggleable__content {max-height: 0;max-width: 0;overflow: hidden;text-align: left;background-color: #f0f8ff;}#sk-container-id-2 div.sk-toggleable__content pre {margin: 0.2em;color: black;border-radius: 0.25em;background-color: #f0f8ff;}#sk-container-id-2 input.sk-toggleable__control:checked~div.sk-toggleable__content {max-height: 200px;max-width: 100%;overflow: auto;}#sk-container-id-2 input.sk-toggleable__control:checked~label.sk-toggleable__label-arrow:before {content: \"▾\";}#sk-container-id-2 div.sk-estimator input.sk-toggleable__control:checked~label.sk-toggleable__label {background-color: #d4ebff;}#sk-container-id-2 div.sk-label input.sk-toggleable__control:checked~label.sk-toggleable__label {background-color: #d4ebff;}#sk-container-id-2 input.sk-hidden--visually {border: 0;clip: rect(1px 1px 1px 1px);clip: rect(1px, 1px, 1px, 1px);height: 1px;margin: -1px;overflow: hidden;padding: 0;position: absolute;width: 1px;}#sk-container-id-2 div.sk-estimator {font-family: monospace;background-color: #f0f8ff;border: 1px dotted black;border-radius: 0.25em;box-sizing: border-box;margin-bottom: 0.5em;}#sk-container-id-2 div.sk-estimator:hover {background-color: #d4ebff;}#sk-container-id-2 div.sk-parallel-item::after {content: \"\";width: 100%;border-bottom: 1px solid gray;flex-grow: 1;}#sk-container-id-2 div.sk-label:hover label.sk-toggleable__label {background-color: #d4ebff;}#sk-container-id-2 div.sk-serial::before {content: \"\";position: absolute;border-left: 1px solid gray;box-sizing: border-box;top: 0;bottom: 0;left: 50%;z-index: 0;}#sk-container-id-2 div.sk-serial {display: flex;flex-direction: column;align-items: center;background-color: white;padding-right: 0.2em;padding-left: 0.2em;position: relative;}#sk-container-id-2 div.sk-item {position: relative;z-index: 1;}#sk-container-id-2 div.sk-parallel {display: flex;align-items: stretch;justify-content: center;background-color: white;position: relative;}#sk-container-id-2 div.sk-item::before, #sk-container-id-2 div.sk-parallel-item::before {content: \"\";position: absolute;border-left: 1px solid gray;box-sizing: border-box;top: 0;bottom: 0;left: 50%;z-index: -1;}#sk-container-id-2 div.sk-parallel-item {display: flex;flex-direction: column;z-index: 1;position: relative;background-color: white;}#sk-container-id-2 div.sk-parallel-item:first-child::after {align-self: flex-end;width: 50%;}#sk-container-id-2 div.sk-parallel-item:last-child::after {align-self: flex-start;width: 50%;}#sk-container-id-2 div.sk-parallel-item:only-child::after {width: 0;}#sk-container-id-2 div.sk-dashed-wrapped {border: 1px dashed gray;margin: 0 0.4em 0.5em 0.4em;box-sizing: border-box;padding-bottom: 0.4em;background-color: white;}#sk-container-id-2 div.sk-label label {font-family: monospace;font-weight: bold;display: inline-block;line-height: 1.2em;}#sk-container-id-2 div.sk-label-container {text-align: center;}#sk-container-id-2 div.sk-container {/* jupyter's `normalize.less` sets `[hidden] { display: none; }` but bootstrap.min.css set `[hidden] { display: none !important; }` so we also need the `!important` here to be able to override the default hidden behavior on the sphinx rendered scikit-learn.org. See: https://github.com/scikit-learn/scikit-learn/issues/21755 */display: inline-block !important;position: relative;}#sk-container-id-2 div.sk-text-repr-fallback {display: none;}</style><div id=\"sk-container-id-2\" class=\"sk-top-container\"><div class=\"sk-text-repr-fallback\"><pre>LogisticRegression()</pre><b>In a Jupyter environment, please rerun this cell to show the HTML representation or trust the notebook. <br />On GitHub, the HTML representation is unable to render, please try loading this page with nbviewer.org.</b></div><div class=\"sk-container\" hidden><div class=\"sk-item\"><div class=\"sk-estimator sk-toggleable\"><input class=\"sk-toggleable__control sk-hidden--visually\" id=\"sk-estimator-id-2\" type=\"checkbox\" checked><label for=\"sk-estimator-id-2\" class=\"sk-toggleable__label sk-toggleable__label-arrow\">LogisticRegression</label><div class=\"sk-toggleable__content\"><pre>LogisticRegression()</pre></div></div></div></div></div>"
      ],
      "text/plain": [
       "LogisticRegression()"
      ]
     },
     "execution_count": 230,
     "metadata": {},
     "output_type": "execute_result"
    }
   ],
   "source": [
    "from sklearn.linear_model import LogisticRegression\n",
    "log_reg = LogisticRegression()\n",
    "log_reg.fit(health_prepared, master_labels.iloc[:,0])"
   ]
  },
  {
   "cell_type": "code",
   "execution_count": 251,
   "id": "8c250a43-39ca-4a32-8715-c3c325eabc00",
   "metadata": {},
   "outputs": [],
   "source": [
    "_data = strat_test_set.drop(labels, axis=1)\n",
    "_labels = strat_test_set['Hypertension']\n",
    "_data_preped = full_pipeline.transform(_data)\n",
    "final_predictions = log_reg.predict(_data_preped)"
   ]
  },
  {
   "cell_type": "code",
   "execution_count": 254,
   "id": "73902043-506f-4e67-a2bc-c351e9b0b84f",
   "metadata": {},
   "outputs": [],
   "source": [
    "prediction = log_reg.predict(_data_preped)"
   ]
  },
  {
   "cell_type": "markdown",
   "id": "eeec74a9-857b-47f0-8cb3-2568af7d46f2",
   "metadata": {},
   "source": [
    "## Confusion Matrix"
   ]
  },
  {
   "cell_type": "code",
   "execution_count": 255,
   "id": "1973595c-999c-4871-aa82-3e75e2926719",
   "metadata": {},
   "outputs": [
    {
     "data": {
      "text/plain": [
       "0.7079001343800835"
      ]
     },
     "execution_count": 255,
     "metadata": {},
     "output_type": "execute_result"
    }
   ],
   "source": [
    "from sklearn.metrics import confusion_matrix, accuracy_score\n",
    "accuracy_score(strat_test_set.Hypertension, prediction)"
   ]
  },
  {
   "cell_type": "code",
   "execution_count": 260,
   "id": "0faeb2c0-32fd-42d7-acb1-fde2e4a66085",
   "metadata": {},
   "outputs": [
    {
     "data": {
      "image/png": "[encoded data removed]",
      "text/plain": [
       "<Figure size 864x576 with 1 Axes>"
      ]
     },
     "metadata": {
      "needs_background": "light"
     },
     "output_type": "display_data"
    }
   ],
   "source": [
    "from sklearn.metrics import plot_confusion_matrix\n",
    "cm = confusion_matrix(strat_test_set.Hypertension, prediction)\n",
    "plt.figure(figsize=(12,8))\n",
    "con_matrix = sns.heatmap(cm, annot=True, cbar=False, cmap=plt.cm.Blues)\n",
    "plt.title('Log Regression Model - Confusion Matrix')\n",
    "plt.xticks([.5,1.5], ['No Hypertension', 'Hypertension'], fontsize=16)\n",
    "plt.yticks([.5,1.5], ['No Hypertension',  'Hypertension'], fontsize=16)\n",
    "plt.ylabel('Actual Event', labelpad=30, size=20)\n",
    "plt.xlabel('Predicted Event', labelpad=30, size=20)\n",
    "plt.show()\n",
    "con_mat.get_figure().savefig('images/Log_Reg_Confusion_matrix_prelim.png')"
   ]
  }
 ],
 "metadata": {
  "kernelspec": {
   "display_name": "Python 3 (ipykernel)",
   "language": "python",
   "name": "python3"
  },
  "language_info": {
   "codemirror_mode": {
    "name": "ipython",
    "version": 3
   },
   "file_extension": ".py",
   "mimetype": "text/x-python",
   "name": "python",
   "nbconvert_exporter": "python",
   "pygments_lexer": "ipython3",
   "version": "3.10.5"
  }
 },
 "nbformat": 4,
 "nbformat_minor": 5
}
